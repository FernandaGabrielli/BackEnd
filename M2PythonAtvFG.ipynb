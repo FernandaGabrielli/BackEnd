{
  "nbformat": 4,
  "nbformat_minor": 0,
  "metadata": {
    "colab": {
      "provenance": [],
      "include_colab_link": true
    },
    "kernelspec": {
      "name": "python3",
      "display_name": "Python 3"
    }
  },
  "cells": [
    {
      "cell_type": "markdown",
      "metadata": {
        "id": "view-in-github",
        "colab_type": "text"
      },
      "source": [
        "<a href=\"https://colab.research.google.com/github/FernandaGabrielli/BackEnd/blob/M%C3%B3dulo-2---Listas%2C-conjuntos-e-dicion%C3%A1rios/M2PythonAtvFG.ipynb\" target=\"_parent\"><img src=\"https://colab.research.google.com/assets/colab-badge.svg\" alt=\"Open In Colab\"/></a>"
      ]
    },
    {
      "cell_type": "markdown",
      "metadata": {
        "id": "KJqp9AANOCtf"
      },
      "source": [
        "<img src=\"https://raw.githubusercontent.com/andre-marcos-perez/ebac-course-utils/main/media/logo/newebac_logo_black_half.png\" alt=\"ebac-logo\">\n",
        "\n",
        "---\n",
        "\n",
        "# **Módulo** | Python: Estruturas de Dados\n",
        "Caderno de **Exercícios**<br>\n",
        "Professor [André Perez](https://www.linkedin.com/in/andremarcosperez/)\n",
        "\n",
        "---"
      ]
    },
    {
      "cell_type": "markdown",
      "metadata": {
        "id": "d9jDtUbDOE1-"
      },
      "source": [
        "# **Tópicos**\n",
        "\n",
        "<ol type=\"1\">\n",
        "  <li>Listas;</li>\n",
        "  <li>Conjuntos;</li>\n",
        "  <li>Dicionários.</li>\n",
        "</ol>"
      ]
    },
    {
      "cell_type": "markdown",
      "metadata": {
        "id": "SmoHgt-lwkpD"
      },
      "source": [
        "---"
      ]
    },
    {
      "cell_type": "markdown",
      "metadata": {
        "id": "GABI6OW8OfQ2"
      },
      "source": [
        "# **Exercícios**"
      ]
    },
    {
      "cell_type": "markdown",
      "metadata": {
        "id": "muD1vxozykSC"
      },
      "source": [
        "## 1\\. Listas"
      ]
    },
    {
      "cell_type": "markdown",
      "metadata": {
        "id": "ahrFfCuBxJKs"
      },
      "source": [
        "Criei uma lista chamada `filmes` com o nome dos 10 primeiros filmes mais bem avaliados no site no [IMDB](https://www.imdb.com/chart/top/). Imprima o resultado."
      ]
    },
    {
      "cell_type": "code",
      "metadata": {
        "id": "OgL6Hv3bzOHI",
        "colab": {
          "base_uri": "https://localhost:8080/"
        },
        "outputId": "21674462-ecde-4445-b1cb-2af92b87defe"
      },
      "source": [
        "filmes = [    'Um Sonho de Liberdade',\n",
        "    'O Poderoso Chefão',\n",
        "    'Batman: O Cavaleiro das Trevas',\n",
        "    'O Poderoso Chefão II',\n",
        "    '12 Homens e uma Sentença',\n",
        "    'A Lista de Schindler',\n",
        "    'O Senhor dos Anéis: O Retorno do Rei',\n",
        "    'Pulp Fiction: Tempo de Violência',\n",
        "    'O Senhor dos Anéis: A Sociedade do Anel',\n",
        "    'Três Homens em Conflito'\n",
        "]\n",
        "print(filmes)\n",
        "print(len(filmes))"
      ],
      "execution_count": null,
      "outputs": [
        {
          "output_type": "stream",
          "name": "stdout",
          "text": [
            "['Um Sonho de Liberdade', 'O Poderoso Chefão', 'Batman: O Cavaleiro das Trevas', 'O Poderoso Chefão II', '12 Homens e uma Sentença', 'A Lista de Schindler', 'O Senhor dos Anéis: O Retorno do Rei', 'Pulp Fiction: Tempo de Violência', 'O Senhor dos Anéis: A Sociedade do Anel', 'Três Homens em Conflito']\n",
            "10\n"
          ]
        }
      ]
    },
    {
      "cell_type": "markdown",
      "metadata": {
        "id": "KI9zQRT2xa7m"
      },
      "source": [
        "Simule a movimentação do *ranking*. Utilize os métodos `insert` e `pop` para trocar a posição do primeiro e do segundo filme da lista. Imprima o resultado.\n",
        "\n"
      ]
    },
    {
      "cell_type": "code",
      "metadata": {
        "id": "zX3mA3_GzrXH"
      },
      "source": [
        "filme_primeiro = filmes.pop(0)\n",
        "filmes.insert(1, filme_primeiro)\n",
        "\n",
        "filme_segundo = filmes.pop(0)\n",
        "filmes.insert(0, filme_segundo)\n",
        "\n",
        "print(filmes)\n",
        "print(len(filmes))"
      ],
      "execution_count": null,
      "outputs": []
    },
    {
      "cell_type": "markdown",
      "source": [],
      "metadata": {
        "id": "Lh5CBLQN44Lu"
      }
    },
    {
      "cell_type": "markdown",
      "metadata": {
        "id": "zMN1Q3jdwoJm"
      },
      "source": [
        "---"
      ]
    },
    {
      "cell_type": "markdown",
      "metadata": {
        "id": "lxa5L6uF0ZJE"
      },
      "source": [
        "## 2\\. Conjuntos"
      ]
    },
    {
      "cell_type": "markdown",
      "metadata": {
        "id": "9JahS2Kj0d5u"
      },
      "source": [
        "Aconteceu um erro no seu *ranking*. Simule a duplicação dos três últimos filmes da lista. Imprima o resultado."
      ]
    },
    {
      "cell_type": "code",
      "metadata": {
        "id": "BnjnLBNC6PGe",
        "colab": {
          "base_uri": "https://localhost:8080/"
        },
        "outputId": "d9e13e24-20c3-4847-899a-b8d8c8b19a2e"
      },
      "source": [
        "filmes.append(filmes[-3])\n",
        "filmes.append(filmes[-2])\n",
        "filmes.append(filmes[-1])\n",
        "\n",
        "print(filmes)\n",
        "print(len(filmes))\n"
      ],
      "execution_count": 4,
      "outputs": [
        {
          "output_type": "stream",
          "name": "stdout",
          "text": [
            "['Um Sonho de Liberdade', 'O Poderoso Chefão', 'Batman: O Cavaleiro das Trevas', 'O Poderoso Chefão II', '12 Homens e uma Sentença', 'A Lista de Schindler', 'O Senhor dos Anéis: O Retorno do Rei', 'Pulp Fiction: Tempo de Violência', 'O Senhor dos Anéis: A Sociedade do Anel', 'Três Homens em Conflito', 'Pulp Fiction: Tempo de Violência', 'Três Homens em Conflito', 'Três Homens em Conflito']\n",
            "13\n"
          ]
        }
      ]
    },
    {
      "cell_type": "markdown",
      "metadata": {
        "id": "suxTfCJB6ZiX"
      },
      "source": [
        "*Utiliza* a conversão `set` e `list` para remover os valores duplicados. Imprima o resultado."
      ]
    },
    {
      "cell_type": "code",
      "metadata": {
        "id": "ZvUGN-0n6joM",
        "colab": {
          "base_uri": "https://localhost:8080/"
        },
        "outputId": "2f68b3b5-4b70-41f2-e4a1-56b6dd46829e"
      },
      "source": [
        "filmesIniciais = list(set(filmes))\n",
        "print(filmesIniciais)"
      ],
      "execution_count": 5,
      "outputs": [
        {
          "output_type": "stream",
          "name": "stdout",
          "text": [
            "['O Senhor dos Anéis: O Retorno do Rei', 'Três Homens em Conflito', '12 Homens e uma Sentença', 'A Lista de Schindler', 'Pulp Fiction: Tempo de Violência', 'Batman: O Cavaleiro das Trevas', 'O Poderoso Chefão II', 'Um Sonho de Liberdade', 'O Senhor dos Anéis: A Sociedade do Anel', 'O Poderoso Chefão']\n"
          ]
        }
      ]
    },
    {
      "cell_type": "markdown",
      "metadata": {
        "id": "ShkK35eQ6pAM"
      },
      "source": [
        "---"
      ]
    },
    {
      "cell_type": "markdown",
      "metadata": {
        "id": "EL_FzmxL6rTv"
      },
      "source": [
        "## 3\\. Dicionários"
      ]
    },
    {
      "cell_type": "markdown",
      "metadata": {
        "id": "i8l0gFqRCpfT"
      },
      "source": [
        "Repita os exercícios da parte 1 (listas). Os elementos da lista `filmes` devem ser dicionários no seguinte formato: `{'nome': <nome-do-filme>, 'ano': <ano do filme>}, 'sinopse': <sinopse do filme>}`."
      ]
    },
    {
      "cell_type": "code",
      "metadata": {
        "id": "tu6MSFwGDnHv",
        "colab": {
          "base_uri": "https://localhost:8080/"
        },
        "outputId": "5ada13de-f5f3-413b-d36d-660af683883f"
      },
      "source": [
        "filmes = [\n",
        "    {'nome': 'Um Sonho de Liberdade', 'ano': 1994, 'sinopse': 'Dois homens presos se tornam amigos e encontram redenção.'},\n",
        "    {'nome': 'O Poderoso Chefão', 'ano': 1972, 'sinopse': 'A história de uma poderosa família de mafiosos.'},\n",
        "    {'nome': 'Batman: O Cavaleiro das Trevas', 'ano': 2008, 'sinopse': 'Batman enfrenta o Coringa em Gotham City.'},\n",
        "    {'nome': 'O Poderoso Chefão II', 'ano': 1974, 'sinopse': 'A continuação da saga da família Corleone.'},\n",
        "    {'nome': '12 Homens e uma Sentença', 'ano': 1957, 'sinopse': 'Um júri decide o destino de um acusado de assassinato.'},\n",
        "    {'nome': 'A Lista de Schindler', 'ano': 1993, 'sinopse': 'A história de Oskar Schindler, que salvou judeus na Segunda Guerra Mundial.'},\n",
        "    {'nome': 'O Senhor dos Anéis: O Retorno do Rei', 'ano': 2003, 'sinopse': 'A batalha final pelo controle da Terra Média.'},\n",
        "    {'nome': 'Pulp Fiction: Tempo de Violência', 'ano': 1994, 'sinopse': 'Histórias interligadas de crime em Los Angeles.'},\n",
        "    {'nome': 'O Senhor dos Anéis: A Sociedade do Anel', 'ano': 2001, 'sinopse': 'A jornada para destruir o Um Anel.'},\n",
        "    {'nome': 'Três Homens em Conflito', 'ano': 1966, 'sinopse': 'Três homens caçam um tesouro enterrado durante a Guerra Civil Americana.'}\n",
        "]\n",
        "print(filmes)"
      ],
      "execution_count": 6,
      "outputs": [
        {
          "output_type": "stream",
          "name": "stdout",
          "text": [
            "[{'nome': 'Um Sonho de Liberdade', 'ano': 1994, 'sinopse': 'Dois homens presos se tornam amigos e encontram redenção.'}, {'nome': 'O Poderoso Chefão', 'ano': 1972, 'sinopse': 'A história de uma poderosa família de mafiosos.'}, {'nome': 'Batman: O Cavaleiro das Trevas', 'ano': 2008, 'sinopse': 'Batman enfrenta o Coringa em Gotham City.'}, {'nome': 'O Poderoso Chefão II', 'ano': 1974, 'sinopse': 'A continuação da saga da família Corleone.'}, {'nome': '12 Homens e uma Sentença', 'ano': 1957, 'sinopse': 'Um júri decide o destino de um acusado de assassinato.'}, {'nome': 'A Lista de Schindler', 'ano': 1993, 'sinopse': 'A história de Oskar Schindler, que salvou judeus na Segunda Guerra Mundial.'}, {'nome': 'O Senhor dos Anéis: O Retorno do Rei', 'ano': 2003, 'sinopse': 'A batalha final pelo controle da Terra Média.'}, {'nome': 'Pulp Fiction: Tempo de Violência', 'ano': 1994, 'sinopse': 'Histórias interligadas de crime em Los Angeles.'}, {'nome': 'O Senhor dos Anéis: A Sociedade do Anel', 'ano': 2001, 'sinopse': 'A jornada para destruir o Um Anel.'}, {'nome': 'Três Homens em Conflito', 'ano': 1966, 'sinopse': 'Três homens caçam um tesouro enterrado durante a Guerra Civil Americana.'}]\n"
          ]
        }
      ]
    },
    {
      "cell_type": "code",
      "source": [
        "filme_primeiro = filmes.pop(0)\n",
        "filmes.insert(1, filme_primeiro)\n",
        "\n",
        "filme_segundo = filmes.pop(0)\n",
        "filmes.insert(0, filme_segundo)\n",
        "\n",
        "print(\"Após as mudanças\")\n",
        "print(filmes)"
      ],
      "metadata": {
        "colab": {
          "base_uri": "https://localhost:8080/"
        },
        "id": "AURFU62j9EF3",
        "outputId": "8ac8dc7b-36fd-4080-d277-a25f1d1330df"
      },
      "execution_count": 8,
      "outputs": [
        {
          "output_type": "stream",
          "name": "stdout",
          "text": [
            "Após as mudanças\n",
            "[{'nome': 'O Poderoso Chefão', 'ano': 1972, 'sinopse': 'A história de uma poderosa família de mafiosos.'}, {'nome': 'Um Sonho de Liberdade', 'ano': 1994, 'sinopse': 'Dois homens presos se tornam amigos e encontram redenção.'}, {'nome': 'Batman: O Cavaleiro das Trevas', 'ano': 2008, 'sinopse': 'Batman enfrenta o Coringa em Gotham City.'}, {'nome': 'O Poderoso Chefão II', 'ano': 1974, 'sinopse': 'A continuação da saga da família Corleone.'}, {'nome': '12 Homens e uma Sentença', 'ano': 1957, 'sinopse': 'Um júri decide o destino de um acusado de assassinato.'}, {'nome': 'A Lista de Schindler', 'ano': 1993, 'sinopse': 'A história de Oskar Schindler, que salvou judeus na Segunda Guerra Mundial.'}, {'nome': 'O Senhor dos Anéis: O Retorno do Rei', 'ano': 2003, 'sinopse': 'A batalha final pelo controle da Terra Média.'}, {'nome': 'Pulp Fiction: Tempo de Violência', 'ano': 1994, 'sinopse': 'Histórias interligadas de crime em Los Angeles.'}, {'nome': 'O Senhor dos Anéis: A Sociedade do Anel', 'ano': 2001, 'sinopse': 'A jornada para destruir o Um Anel.'}, {'nome': 'Três Homens em Conflito', 'ano': 1966, 'sinopse': 'Três homens caçam um tesouro enterrado durante a Guerra Civil Americana.'}]\n"
          ]
        }
      ]
    }
  ]
}